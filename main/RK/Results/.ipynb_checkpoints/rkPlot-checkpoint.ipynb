{
 "cells": [
  {
   "cell_type": "code",
   "execution_count": 1,
   "metadata": {},
   "outputs": [],
   "source": [
    "import pandas as pd\n",
    "import numpy as np\n",
    "import matplotlib.pyplot as plt\n",
    "\n",
    "from matplotlib.pyplot import cm\n",
    "\n",
    "%matplotlib inline"
   ]
  },
  {
   "cell_type": "code",
   "execution_count": 4,
   "metadata": {},
   "outputs": [
    {
     "data": {
      "text/plain": [
       "['rkLVOdeRK56.csv', 'rkLVOdeRK68S.csv', 'rkLVOdeRK58.csv', 'rkLVOdeRK57FC.csv']"
      ]
     },
     "execution_count": 4,
     "metadata": {},
     "output_type": "execute_result"
    }
   ],
   "source": [
    "import os\n",
    "\n",
    "results = os.listdir(os.getcwd())\n",
    "results.remove('rkPlot.ipynb')\n",
    "results.remove('.ipynb_checkpoints')\n",
    "# results.remove('kmeansResults.png')\n",
    "# results.remove('kmeansResults.pdf')\n",
    "\n",
    "results  "
   ]
  },
  {
   "cell_type": "code",
   "execution_count": null,
   "metadata": {},
   "outputs": [],
   "source": [
    "import csv\n",
    "\n",
    "fig, axs = plt.subplots(2, 2, figsize=(200, 170))\n",
    "\n",
    "count = 0\n",
    "for row in axs:\n",
    "    for ax in row:\n",
    "\n",
    "#         df = pd.read_csv(results[count], header=None)\n",
    "#         df.columns = ['x', 'y']\n",
    "#         df.x = df.x.astype(float)\n",
    "#         df.y = df.y.astype(float)\n",
    "        ax.set_title(results[count][:-4], fontsize=100)\n",
    "        with open(results[count]) as f:\n",
    "            reader = csv.reader(f)\n",
    "            data = list(reader)\n",
    "            plt.figure()\n",
    "            plt.ylabel('y')\n",
    "            plt.xlabel('x')\n",
    "            plt.title('y(x)')\n",
    "            plt.plot([float(elem[0]) for elem in data],[float(elem[1]) for elem in data])\n",
    "            \n",
    "        count += 1\n",
    "#             plt.savefig(path[0 : len(path) - 4])\n",
    "\n",
    "\n",
    "plt.savefig('rkResults.pdf', quality=99, format='pdf')    \n",
    "plt.show()"
   ]
  },
  {
   "cell_type": "code",
   "execution_count": null,
   "metadata": {},
   "outputs": [],
   "source": []
  }
 ],
 "metadata": {
  "kernelspec": {
   "display_name": "Python 3",
   "language": "python",
   "name": "python3"
  },
  "language_info": {
   "codemirror_mode": {
    "name": "ipython",
    "version": 3
   },
   "file_extension": ".py",
   "mimetype": "text/x-python",
   "name": "python",
   "nbconvert_exporter": "python",
   "pygments_lexer": "ipython3",
   "version": "3.7.4"
  }
 },
 "nbformat": 4,
 "nbformat_minor": 4
}
